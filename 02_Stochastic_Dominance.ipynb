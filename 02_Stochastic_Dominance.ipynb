{
 "cells": [
  {
   "cell_type": "code",
   "execution_count": null,
   "metadata": {},
   "outputs": [],
   "source": [
    "# d1 = [[0.396079016,0.588378706,0.015542278],\n",
    "#       [0.864092195,0.149660857,-0.013753052],\n",
    "#       [0.486091805,0.485185136,0.028723059],\n",
    "#       [0.056257739,0.654415236,0.289327025],\n",
    "#       [0.201769299,0.643015532,0.155215169]]\n",
    "# d2 = [[0.405548878,0.581720341,0.012730781],\n",
    "#       [0.867333705,0.146807239,-0.014140944],\n",
    "#       [0.498000692,0.477251066,0.024748241],\n",
    "#       [0.066133985,0.65009584,0.283770175],\n",
    "#       [0.230038167,0.64137657,0.128585263],]\n",
    "# d3 = [[0.475544797,0.510112788,0.014342415],\n",
    "#      [0.858594204,0.154071771,-0.012665975],\n",
    "#      [0.506242578,0.469415975,0.024341447],\n",
    "#      [0.059902928,0.638357036,0.301740036],\n",
    "#      [0.255344977,0.659784461,0.084870562]]\n",
    "# d4 = [[0.401524901,0.590179588,0.008295511],\n",
    "#      [0.86617756,0.148329685,-0.014507245],\n",
    "#      [0.523228843,0.452713946,0.024057211],\n",
    "#      [0.099823198,0.652858976,0.247317826],\n",
    "#      [0.238697121,0.654787277,0.106515602]]"
   ]
  },
  {
   "cell_type": "code",
   "execution_count": 3,
   "metadata": {},
   "outputs": [
    {
     "name": "stdout",
     "output_type": "stream",
     "text": [
      "FSD does not hold\n",
      "SSD does not hold\n",
      "TSD does not hold\n"
     ]
    }
   ],
   "source": [
    "import numpy as np\n",
    "\n",
    "# Given input matrix\n",
    "matrix = np.array([\n",
    "    [0.396079016, 0.588378706, 0.015542278],\n",
    "    [0.864092195, 0.149660857, -0.013753052],\n",
    "    [0.486091805, 0.485185136, 0.028723059],\n",
    "    [0.056257739, 0.654415236, 0.289327025],\n",
    "    [0.201769299, 0.643015532, 0.155215169]\n",
    "])\n",
    "\n",
    "# Calculate the cumulative distribution functions (CDFs) for each hotel\n",
    "cdf_matrix = np.cumsum(matrix, axis=1)\n",
    "\n",
    "# Check for First Stochastic Dominance (FSD)\n",
    "fsd_condition = np.all([np.all(cdf_matrix[i, :] <= cdf_matrix[j, :]) for i in range(5) for j in range(5) if i != j])\n",
    "if fsd_condition:\n",
    "    print(\"FSD holds\")\n",
    "else:\n",
    "    print(\"FSD does not hold\")\n",
    "\n",
    "# Check for Second Stochastic Dominance (SSD)\n",
    "ssd_condition = np.all([np.all(cdf_matrix[i, :] < cdf_matrix[j, :]) for i in range(5) for j in range(5) if i != j])\n",
    "if ssd_condition:\n",
    "    print(\"SSD holds\")\n",
    "else:\n",
    "    print(\"SSD does not hold\")\n",
    "\n",
    "# Check for Third Stochastic Dominance (TSD)\n",
    "tsd_condition = np.all([np.all(np.abs(cdf_matrix[i, :] - cdf_matrix[j, :]).sum() < np.abs(cdf_matrix[j, :] - cdf_matrix[i, :]).sum()) for i in range(5) for j in range(5) if i != j])\n",
    "if tsd_condition:\n",
    "    print(\"TSD holds\")\n",
    "else:\n",
    "    print(\"TSD does not hold\")\n"
   ]
  },
  {
   "cell_type": "code",
   "execution_count": null,
   "metadata": {},
   "outputs": [],
   "source": []
  }
 ],
 "metadata": {
  "kernelspec": {
   "display_name": "Python 3 (ipykernel)",
   "language": "python",
   "name": "python3"
  },
  "language_info": {
   "codemirror_mode": {
    "name": "ipython",
    "version": 3
   },
   "file_extension": ".py",
   "mimetype": "text/x-python",
   "name": "python",
   "nbconvert_exporter": "python",
   "pygments_lexer": "ipython3",
   "version": "3.11.5"
  }
 },
 "nbformat": 4,
 "nbformat_minor": 4
}
