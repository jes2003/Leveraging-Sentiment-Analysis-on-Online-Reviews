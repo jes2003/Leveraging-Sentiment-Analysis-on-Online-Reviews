{
 "cells": [
  {
   "cell_type": "code",
   "execution_count": 11,
   "id": "dc077a1e-fb83-408c-b657-a4c6369e92ae",
   "metadata": {},
   "outputs": [
    {
     "name": "stdout",
     "output_type": "stream",
     "text": [
      "[-0.20780932 -0.93304348 -0.56648778 -0.18972621  0.27460815]\n"
     ]
    }
   ],
   "source": [
    "# Input beta\n",
    "import numpy as np\n",
    "beta = np.array([[0.593693855698226,0.0204216071809354,0.385884537120837],\n",
    "                 [0.966521739130434, 0, 0.0334782608695652],\n",
    "                 [0.776982707100775, 0.0125223612093023, 0.210494931689922],\n",
    "                 [0.586456671938596, 0.0168128654824561, 0.396730462578947],\n",
    "                 [0.362695924581818, 0, 0.637304075418181]])\n",
    "\n",
    "# Input s\n",
    "s = np.array([-1, 0, 1])\n",
    "\n",
    "# Calculate e; = Σ Sa\n",
    "e11 = np.einsum('ij,j->i', beta, s)\n",
    "print(e11)"
   ]
  },
  {
   "cell_type": "code",
   "execution_count": 2,
   "id": "90db7fc1-5864-4ed1-9873-24f2eb056804",
   "metadata": {},
   "outputs": [
    {
     "name": "stdout",
     "output_type": "stream",
     "text": [
      "[-0.20780932 -0.93304348 -0.56648778 -0.18972621  0.27460815]\n"
     ]
    }
   ],
   "source": [
    "# Input beta\n",
    "import numpy as np\n",
    "beta = np.array([[0.656565656666666,0.015151515,0.328282828333333],\n",
    "                 [0.96314186248912,0.00335073977371627,0.0335073977371627],\n",
    "                 [0.659931840170886,0.0159039272088607,0.324164232620253],\n",
    "                 [0.649010768980897,0.0174680691018078,0.333521161917294],\n",
    "                 [0.625660142740765,0.0177073625524965,0.356632494706738],\n",
    "                ])\n",
    "\n",
    "# Input s\n",
    "s = np.array([-1, 0, 1])\n",
    "\n",
    "# Calculate e; = Σ Sa\n",
    "e12 = np.einsum('ij,j->i', beta, s)\n",
    "print(e11)"
   ]
  },
  {
   "cell_type": "code",
   "execution_count": 3,
   "id": "4c8fc3de-73dc-447d-adc9-0644ccc84ca0",
   "metadata": {},
   "outputs": [
    {
     "name": "stdout",
     "output_type": "stream",
     "text": [
      "[-0.20780932 -0.93304348 -0.56648778 -0.18972621  0.27460815]\n"
     ]
    }
   ],
   "source": [
    "# Input beta\n",
    "import numpy as np\n",
    "beta = np.array([[0.676911157, 0.009986226, 0.313102617],\n",
    "                 [0.937264957, 0, 0.062735043],\n",
    "                 [0.653284671, 0.008235074, 0.338480255],\n",
    "                 [0.676682075, 0.009758603, 0.313559322],\n",
    "                 [0.83908046, 0,\t0.16091954],\n",
    "                ])\n",
    "\n",
    "# Input s\n",
    "s = np.array([-1, 0, 1])\n",
    "\n",
    "# Calculate e; = Σ Sa\n",
    "e13 = np.einsum('ij,j->i', beta, s)\n",
    "print(e11)"
   ]
  },
  {
   "cell_type": "code",
   "execution_count": 4,
   "id": "78d7baec-d56f-41a2-9160-1c5db4775808",
   "metadata": {},
   "outputs": [
    {
     "name": "stdout",
     "output_type": "stream",
     "text": [
      "[-0.20780932 -0.93304348 -0.56648778 -0.18972621  0.27460815]\n"
     ]
    }
   ],
   "source": [
    "# Input beta\n",
    "import numpy as np\n",
    "beta = np.array([[0.664448052, 0.018127706,\t0.317424242],\n",
    "                 [0.949784483, 0.003318966,\t0.046896552],\n",
    "                 [0.658560794, 0.008271299,\t0.333167907],\n",
    "                 [0.671802774, 0.017141757,\t0.31105547],\n",
    "                 [0.557290253, 0.005701873,\t0.437007874],\n",
    "])\n",
    "\n",
    "# Input s\n",
    "s = np.array([-1, 0, 1])\n",
    "\n",
    "# Calculate e; = Σ Sa\n",
    "e14 = np.einsum('ij,j->i', beta, s)\n",
    "print(e11)"
   ]
  },
  {
   "cell_type": "code",
   "execution_count": 5,
   "id": "6b283631-ac07-4708-aa58-381f0e2e7e52",
   "metadata": {},
   "outputs": [],
   "source": [
    "result_matrix = np.vstack((e11, e12, e13, e14)).T"
   ]
  },
  {
   "cell_type": "code",
   "execution_count": 6,
   "id": "c263e647-6007-4dd1-9a86-a0e18f7a478a",
   "metadata": {},
   "outputs": [
    {
     "name": "stdout",
     "output_type": "stream",
     "text": [
      "[[-0.20780932 -0.32828283 -0.36380854 -0.34702381]\n",
      " [-0.93304348 -0.92963446 -0.87452991 -0.90288793]\n",
      " [-0.56648778 -0.33576761 -0.31480442 -0.32539289]\n",
      " [-0.18972621 -0.31548961 -0.36312275 -0.3607473 ]\n",
      " [ 0.27460815 -0.26902765 -0.67816092 -0.12028238]]\n"
     ]
    }
   ],
   "source": [
    "print(result_matrix)"
   ]
  },
  {
   "cell_type": "code",
   "execution_count": 9,
   "id": "bef083fd-f53c-4304-a714-ee56560791bc",
   "metadata": {},
   "outputs": [
    {
     "name": "stdout",
     "output_type": "stream",
     "text": [
      "Rankings: [5 4 1 3 2]\n"
     ]
    }
   ],
   "source": [
    "# import numpy as np\n",
    "\n",
    "# def fuzzy_best_worst_method(matrix):\n",
    "#     # Step 1: Normalize the matrix using Min-Max normalization\n",
    "#     normalized_matrix = (matrix - matrix.min(axis=0)) / (matrix.max(axis=0) - matrix.min(axis=0))\n",
    "\n",
    "#     # Step 2: Identify best and worst values for each criterion\n",
    "#     best_values = normalized_matrix.max(axis=0)\n",
    "#     worst_values = normalized_matrix.min(axis=0)\n",
    "\n",
    "#     # Step 3: Calculate deviation scores\n",
    "#     deviation_scores = np.abs(normalized_matrix - best_values)\n",
    "\n",
    "#     # Step 4: Apply a fuzzy membership function (e.g., linear)\n",
    "#     fuzzy_scores = 1 - deviation_scores\n",
    "\n",
    "#     # Step 5: Aggregate fuzzy scores (weighted average)\n",
    "#     weights = [0.354, 0.235, 0.292, 0.118]  # Adjust weights based on criterion importance\n",
    "#     aggregated_scores = np.dot(fuzzy_scores, weights)\n",
    "\n",
    "#     # Step 6: Rank alternatives\n",
    "#     rankings = np.argsort(aggregated_scores)[::-1] + 1  # Reverse order for ranking\n",
    "\n",
    "#     return rankings\n",
    "\n",
    "# # Example usage with the provided matrix\n",
    "# input_matrix = np.array([\n",
    "#      [-0.20780932, -0.32828283, -0.36380854, -0.34702381],\n",
    "#      [-0.93304348, -0.92963446, -0.87452991, -0.90288793],\n",
    "#      [-0.56648778, -0.33576761, -0.31480442, -0.32539289],\n",
    "#      [-0.18972621, -0.31548961, -0.36312275, -0.3607473 ],\n",
    "#      [ 0.27460815, -0.26902765, -0.67816092, -0.12028238]\n",
    "# ])\n",
    "\n",
    "# rankings = fuzzy_best_worst_method(input_matrix)\n",
    "# print(\"Rankings:\", rankings)"
   ]
  },
  {
   "cell_type": "code",
   "execution_count": 11,
   "id": "9b7b5f1c-4961-4534-97d8-7dc4d81018aa",
   "metadata": {},
   "outputs": [
    {
     "name": "stdout",
     "output_type": "stream",
     "text": [
      "Rankings: [1 4 3 5 2]\n"
     ]
    }
   ],
   "source": [
    "import numpy as np\n",
    "\n",
    "def min_max_normalization(matrix):\n",
    "    return (matrix - matrix.min(axis=0)) / (matrix.max(axis=0) - matrix.min(axis=0))\n",
    "\n",
    "def triangular_membership(x, a, b, c):\n",
    "    if x <= a or x >= c:\n",
    "        return 0.0\n",
    "    elif a < x <= b:\n",
    "        return (x - a) / (b - a)\n",
    "    elif b < x < c:\n",
    "        return (c - x) / (c - b)\n",
    "\n",
    "def fuzzy_best_worst_method(matrix, is_maximization, weights=None):\n",
    "    num_alternatives, num_criteria = matrix.shape\n",
    "\n",
    "    # Step 1: Normalize the matrix using Min-Max normalization\n",
    "    normalized_matrix = min_max_normalization(matrix)\n",
    "\n",
    "    # Step 2: Identify best and worst values for each criterion\n",
    "    if is_maximization:\n",
    "        best_values = normalized_matrix.max(axis=0)\n",
    "        worst_values = normalized_matrix.min(axis=0)\n",
    "    else:\n",
    "        best_values = normalized_matrix.min(axis=0)\n",
    "        worst_values = normalized_matrix.max(axis=0)\n",
    "\n",
    "    # Step 3: Calculate deviation scores\n",
    "    deviation_scores = np.abs(normalized_matrix - best_values)\n",
    "\n",
    "    # Step 4: Apply a triangular membership function\n",
    "    fuzzy_scores = np.zeros_like(deviation_scores)\n",
    "    for i in range(num_criteria):\n",
    "        for j in range(num_alternatives):\n",
    "            fuzzy_scores[j, i] = triangular_membership(deviation_scores[j, i], 0, 0.2, 0.4)\n",
    "\n",
    "    # Step 5: Weighted aggregation of fuzzy scores\n",
    "    if weights is None:\n",
    "        weights = np.ones(num_criteria) / num_criteria\n",
    "    else:\n",
    "        weights /= np.sum(weights)  # Normalize weights to ensure their sum is 1\n",
    "\n",
    "    aggregated_scores = np.dot(fuzzy_scores, weights)\n",
    "\n",
    "    # Step 6: Rank alternatives\n",
    "    rankings = np.argsort(aggregated_scores)[::-1] + 1  # Reverse order for ranking\n",
    "\n",
    "    return rankings\n",
    "\n",
    "# Example usage with the provided matrix\n",
    "input_matrix = np.array([\n",
    "    [-0.20780932, -0.32828283, -0.36380854, -0.34702381],\n",
    "     [-0.93304348, -0.92963446, -0.87452991, -0.90288793],\n",
    "     [-0.56648778, -0.33576761, -0.31480442, -0.32539289],\n",
    "     [-0.18972621, -0.31548961, -0.36312275, -0.3607473 ],\n",
    "     [ 0.27460815, -0.26902765, -0.67816092, -0.12028238]\n",
    "])\n",
    "\n",
    "# Specify whether each criterion is for maximization (True) or minimization (False)\n",
    "maximization_criteria = [True, True, False, True]\n",
    "\n",
    "# Weights for each criterion (customize based on importance)\n",
    "criteria_weights = [0.354, 0.235, 0.292, 0.118]\n",
    "\n",
    "rankings = fuzzy_best_worst_method(input_matrix, maximization_criteria, criteria_weights)\n",
    "print(\"Rankings:\", rankings)\n"
   ]
  },
  {
   "cell_type": "code",
   "execution_count": 14,
   "id": "884cf2de-f0e2-40dd-bfb7-e7782190a796",
   "metadata": {},
   "outputs": [
    {
     "data": {
      "image/png": "[encoded data removed]",
      "text/plain": [
       "<Figure size 640x480 with 1 Axes>"
      ]
     },
     "metadata": {},
     "output_type": "display_data"
    }
   ],
   "source": [
    "\n",
    "# import numpy as np\n",
    "# import matplotlib.pyplot as plt\n",
    "\n",
    "# def plot_rankings(rankings, alternative_names):\n",
    "#     num_alternatives = len(rankings)\n",
    "\n",
    "#     plt.bar(range(1, num_alternatives + 1), rankings, color='skyblue')\n",
    "#     plt.xlabel('Alternatives')\n",
    "#     plt.ylabel('Rankings')\n",
    "#     plt.title('Fuzzy Best Worst Method Rankings')\n",
    "#     plt.ylim(0, num_alternatives + 1)  # Adjust the y-axis limits based on the number of alternatives\n",
    "#     plt.xticks(range(1, num_alternatives + 1), alternative_names, rotation=45, ha='right')  # Set alternative names as x-axis labels\n",
    "#     plt.show()\n",
    "\n",
    "# # Example usage with alternative names\n",
    "# alternative_names = [\n",
    "#     'Howard Johnson Inn - Newburgh',\n",
    "#     'Fiesta Inn and Suites',\n",
    "#     'Americas Best Value Inn',\n",
    "#     'Best Western of Long Beach',\n",
    "#     'Plaza Hotel and Casino - Las Vegas'\n",
    "# ]\n",
    "\n",
    "# input_matrix = np.array([\n",
    "#     [-0.20780932, -0.32828283, -0.36380854, -0.34702381],\n",
    "#     [-0.93304348, -0.92963446, -0.87452991, -0.90288793],\n",
    "#     [-0.56648778, -0.33576761, -0.31480442, -0.32539289],\n",
    "#     [-0.18972621, -0.31548961, -0.36312275, -0.3607473 ],\n",
    "#     [0.27460815, -0.26902765, -0.67816092, -0.12028238]\n",
    "# ])\n",
    "\n",
    "# maximization_criteria = [True, True, True, True]\n",
    "# criteria_weights = [0.354, 0.235, 0.292, 0.118]\n",
    "\n",
    "# rankings = fuzzy_best_worst_method(input_matrix, maximization_criteria, criteria_weights)\n",
    "\n",
    "# # Plot the rankings graphically with alternative names as y-axis labels\n",
    "# plot_rankings(rankings, alternative_names)\n"
   ]
  },
  {
   "cell_type": "code",
   "execution_count": 4,
   "id": "cf77c4b7-330e-4614-b757-138c5a6e2c28",
   "metadata": {},
   "outputs": [
    {
     "name": "stdout",
     "output_type": "stream",
     "text": [
      "Room: 0.05\n",
      "Stay: 0.04\n",
      "Clean: 0.91\n",
      "Staff: 0.00\n"
     ]
    }
   ],
   "source": [
    "def calculate_bwm_weights(criteria, best_criterion, worst_criterion, comparisons):\n",
    "\n",
    "  n = len(criteria)\n",
    "\n",
    "  # Initialize weights vector\n",
    "  weights = [1.0] * n\n",
    "\n",
    "  # Consistency ratio calculation (optional)\n",
    "  total_comparisons = n * (n - 1)\n",
    "\n",
    "  # Calculate weights based on comparisons\n",
    "  for (i, j), score in comparisons.items():\n",
    "    if i != j:\n",
    "      weights[i] *= score\n",
    "      weights[j] /= score\n",
    "\n",
    "  # Normalize weights to sum to 1\n",
    "  total_weight = sum(weights)\n",
    "  weights = [w / total_weight for w in weights]\n",
    "\n",
    "  # Calculate consistency ratio (optional)\n",
    "  # ... (consistency ratio calculation logic here)\n",
    "\n",
    "  return weights\n",
    "\n",
    "# Example usage\n",
    "criteria = [\"Room\", \"Stay\", \"Clean\", \"Staff\"]\n",
    "best_criterion = 0  \n",
    "worst_criterion = 2   \n",
    "\n",
    "comparisons = {\n",
    "  (2, 0): 2,  \n",
    "  (2, 1): 3,\n",
    "  (2, 2): 1,\n",
    "  (2, 3): 5, \n",
    "  (0, 3): 3,\n",
    "  (1, 3): 4,\n",
    "  (2, 3): 5,\n",
    "  (3, 3): 1,\n",
    "}\n",
    "\n",
    "weights = calculate_bwm_weights(criteria, best_criterion, worst_criterion, comparisons)\n",
    "\n",
    "# Print the calculated weights\n",
    "for criterion, weight in zip(criteria, weights):\n",
    "  print(f\"{criterion}: {weight:.2f}\")\n"
   ]
  },
  {
   "cell_type": "code",
   "execution_count": 2,
   "id": "328f2e4e-3d87-44e3-ac04-873ac14560f1",
   "metadata": {},
   "outputs": [
    {
     "ename": "KeyboardInterrupt",
     "evalue": "Interrupted by user",
     "output_type": "error",
     "traceback": [
      "\u001b[1;31m---------------------------------------------------------------------------\u001b[0m",
      "\u001b[1;31mKeyboardInterrupt\u001b[0m                         Traceback (most recent call last)",
      "Cell \u001b[1;32mIn[2], line 58\u001b[0m\n\u001b[0;32m     55\u001b[0m num_criteria \u001b[38;5;241m=\u001b[39m \u001b[38;5;241m4\u001b[39m\n\u001b[0;32m     56\u001b[0m criteria_matrix \u001b[38;5;241m=\u001b[39m np\u001b[38;5;241m.\u001b[39mrandom\u001b[38;5;241m.\u001b[39mrand(num_subjects, num_criteria)\n\u001b[1;32m---> 58\u001b[0m subject_weights \u001b[38;5;241m=\u001b[39m \u001b[43mbwm\u001b[49m\u001b[43m(\u001b[49m\u001b[43mnum_subjects\u001b[49m\u001b[43m,\u001b[49m\u001b[43m \u001b[49m\u001b[43mcriteria_matrix\u001b[49m\u001b[43m)\u001b[49m\n",
      "Cell \u001b[1;32mIn[2], line 35\u001b[0m, in \u001b[0;36mbwm\u001b[1;34m(subjects, criteria_matrix)\u001b[0m\n\u001b[0;32m     32\u001b[0m \u001b[38;5;28;01mfor\u001b[39;00m i \u001b[38;5;129;01min\u001b[39;00m \u001b[38;5;28mrange\u001b[39m(num_criteria):\n\u001b[0;32m     33\u001b[0m     \u001b[38;5;28;01mfor\u001b[39;00m j \u001b[38;5;129;01min\u001b[39;00m \u001b[38;5;28mrange\u001b[39m(i \u001b[38;5;241m+\u001b[39m \u001b[38;5;241m1\u001b[39m, num_criteria):\n\u001b[0;32m     34\u001b[0m         \u001b[38;5;66;03m# Assuming a simple user input for the sake of example\u001b[39;00m\n\u001b[1;32m---> 35\u001b[0m         pairwise_matrix[i, j] \u001b[38;5;241m=\u001b[39m \u001b[38;5;28mfloat\u001b[39m(\u001b[38;5;28;43minput\u001b[39;49m\u001b[43m(\u001b[49m\u001b[38;5;124;43mf\u001b[39;49m\u001b[38;5;124;43m\"\u001b[39;49m\u001b[38;5;124;43mCompare criterion \u001b[39;49m\u001b[38;5;132;43;01m{\u001b[39;49;00m\u001b[43mi\u001b[49m\u001b[38;5;241;43m+\u001b[39;49m\u001b[38;5;241;43m1\u001b[39;49m\u001b[38;5;132;43;01m}\u001b[39;49;00m\u001b[38;5;124;43m with criterion \u001b[39;49m\u001b[38;5;132;43;01m{\u001b[39;49;00m\u001b[43mj\u001b[49m\u001b[38;5;241;43m+\u001b[39;49m\u001b[38;5;241;43m1\u001b[39;49m\u001b[38;5;132;43;01m}\u001b[39;49;00m\u001b[38;5;124;43m (1 if equal, >1 if more important, <1 if less important): \u001b[39;49m\u001b[38;5;124;43m\"\u001b[39;49m\u001b[43m)\u001b[49m)\n\u001b[0;32m     36\u001b[0m         pairwise_matrix[j, i] \u001b[38;5;241m=\u001b[39m \u001b[38;5;241m1\u001b[39m \u001b[38;5;241m/\u001b[39m pairwise_matrix[i, j]\n\u001b[0;32m     38\u001b[0m \u001b[38;5;66;03m# Step 2: Apply the Best Worst Method\u001b[39;00m\n",
      "File \u001b[1;32m~\\AppData\\Local\\Programs\\Python\\Python311\\Lib\\site-packages\\ipykernel\\kernelbase.py:1270\u001b[0m, in \u001b[0;36mKernel.raw_input\u001b[1;34m(self, prompt)\u001b[0m\n\u001b[0;32m   1268\u001b[0m     msg \u001b[38;5;241m=\u001b[39m \u001b[38;5;124m\"\u001b[39m\u001b[38;5;124mraw_input was called, but this frontend does not support input requests.\u001b[39m\u001b[38;5;124m\"\u001b[39m\n\u001b[0;32m   1269\u001b[0m     \u001b[38;5;28;01mraise\u001b[39;00m StdinNotImplementedError(msg)\n\u001b[1;32m-> 1270\u001b[0m \u001b[38;5;28;01mreturn\u001b[39;00m \u001b[38;5;28;43mself\u001b[39;49m\u001b[38;5;241;43m.\u001b[39;49m\u001b[43m_input_request\u001b[49m\u001b[43m(\u001b[49m\n\u001b[0;32m   1271\u001b[0m \u001b[43m    \u001b[49m\u001b[38;5;28;43mstr\u001b[39;49m\u001b[43m(\u001b[49m\u001b[43mprompt\u001b[49m\u001b[43m)\u001b[49m\u001b[43m,\u001b[49m\n\u001b[0;32m   1272\u001b[0m \u001b[43m    \u001b[49m\u001b[38;5;28;43mself\u001b[39;49m\u001b[38;5;241;43m.\u001b[39;49m\u001b[43m_parent_ident\u001b[49m\u001b[43m[\u001b[49m\u001b[38;5;124;43m\"\u001b[39;49m\u001b[38;5;124;43mshell\u001b[39;49m\u001b[38;5;124;43m\"\u001b[39;49m\u001b[43m]\u001b[49m\u001b[43m,\u001b[49m\n\u001b[0;32m   1273\u001b[0m \u001b[43m    \u001b[49m\u001b[38;5;28;43mself\u001b[39;49m\u001b[38;5;241;43m.\u001b[39;49m\u001b[43mget_parent\u001b[49m\u001b[43m(\u001b[49m\u001b[38;5;124;43m\"\u001b[39;49m\u001b[38;5;124;43mshell\u001b[39;49m\u001b[38;5;124;43m\"\u001b[39;49m\u001b[43m)\u001b[49m\u001b[43m,\u001b[49m\n\u001b[0;32m   1274\u001b[0m \u001b[43m    \u001b[49m\u001b[43mpassword\u001b[49m\u001b[38;5;241;43m=\u001b[39;49m\u001b[38;5;28;43;01mFalse\u001b[39;49;00m\u001b[43m,\u001b[49m\n\u001b[0;32m   1275\u001b[0m \u001b[43m\u001b[49m\u001b[43m)\u001b[49m\n",
      "File \u001b[1;32m~\\AppData\\Local\\Programs\\Python\\Python311\\Lib\\site-packages\\ipykernel\\kernelbase.py:1313\u001b[0m, in \u001b[0;36mKernel._input_request\u001b[1;34m(self, prompt, ident, parent, password)\u001b[0m\n\u001b[0;32m   1310\u001b[0m \u001b[38;5;28;01mexcept\u001b[39;00m \u001b[38;5;167;01mKeyboardInterrupt\u001b[39;00m:\n\u001b[0;32m   1311\u001b[0m     \u001b[38;5;66;03m# re-raise KeyboardInterrupt, to truncate traceback\u001b[39;00m\n\u001b[0;32m   1312\u001b[0m     msg \u001b[38;5;241m=\u001b[39m \u001b[38;5;124m\"\u001b[39m\u001b[38;5;124mInterrupted by user\u001b[39m\u001b[38;5;124m\"\u001b[39m\n\u001b[1;32m-> 1313\u001b[0m     \u001b[38;5;28;01mraise\u001b[39;00m \u001b[38;5;167;01mKeyboardInterrupt\u001b[39;00m(msg) \u001b[38;5;28;01mfrom\u001b[39;00m \u001b[38;5;28;01mNone\u001b[39;00m\n\u001b[0;32m   1314\u001b[0m \u001b[38;5;28;01mexcept\u001b[39;00m \u001b[38;5;167;01mException\u001b[39;00m:\n\u001b[0;32m   1315\u001b[0m     \u001b[38;5;28mself\u001b[39m\u001b[38;5;241m.\u001b[39mlog\u001b[38;5;241m.\u001b[39mwarning(\u001b[38;5;124m\"\u001b[39m\u001b[38;5;124mInvalid Message:\u001b[39m\u001b[38;5;124m\"\u001b[39m, exc_info\u001b[38;5;241m=\u001b[39m\u001b[38;5;28;01mTrue\u001b[39;00m)\n",
      "\u001b[1;31mKeyboardInterrupt\u001b[0m: Interrupted by user"
     ]
    }
   ],
   "source": [
    "import numpy as np\n",
    "\n",
    "def best_worst_method(pairwise_matrix):\n",
    "    # Calculate the Best and Worst values for each criterion\n",
    "    best_values = np.max(pairwise_matrix, axis=1)\n",
    "    worst_values = np.min(pairwise_matrix, axis=1)\n",
    "    \n",
    "    # Calculate the Best and Worst Indices\n",
    "    best_indices = np.argmax(pairwise_matrix, axis=1)\n",
    "    worst_indices = np.argmin(pairwise_matrix, axis=1)\n",
    "    \n",
    "    return best_values, worst_values, best_indices, worst_indices\n",
    "\n",
    "def normalize_matrix(pairwise_matrix):\n",
    "    # Normalize the pairwise comparison matrix\n",
    "    normalized_matrix = pairwise_matrix / np.sum(pairwise_matrix, axis=0)\n",
    "    return normalized_matrix\n",
    "\n",
    "def calculate_weights(normalized_matrix, best_values, worst_values):\n",
    "    # Calculate the weights using the Best Worst Method\n",
    "    weights = (best_values - normalized_matrix) / (best_values - worst_values)\n",
    "    return weights\n",
    "\n",
    "def bwm(subjects, criteria_matrix):\n",
    "    # Perform Best Worst Method to find subjective weights\n",
    "    num_subjects, num_criteria = criteria_matrix.shape\n",
    "    \n",
    "    # Initialize an empty matrix to store pairwise comparison results\n",
    "    pairwise_matrix = np.zeros((num_criteria, num_criteria))\n",
    "    \n",
    "    # Step 1: Perform pairwise comparisons\n",
    "    for i in range(num_criteria):\n",
    "        for j in range(i + 1, num_criteria):\n",
    "            # Assuming a simple user input for the sake of example\n",
    "            pairwise_matrix[i, j] = float(input(f\"Compare criterion {i+1} with criterion {j+1} (1 if equal, >1 if more important, <1 if less important): \"))\n",
    "            pairwise_matrix[j, i] = 1 / pairwise_matrix[i, j]\n",
    "    \n",
    "    # Step 2: Apply the Best Worst Method\n",
    "    best_values, worst_values, _, _ = best_worst_method(pairwise_matrix)\n",
    "    \n",
    "    # Step 3: Normalize the matrix\n",
    "    normalized_matrix = normalize_matrix(pairwise_matrix)\n",
    "    \n",
    "    # Step 4: Calculate the weights\n",
    "    weights = calculate_weights(normalized_matrix, best_values, worst_values)\n",
    "    \n",
    "    # Display results\n",
    "    for i in range(num_criteria):\n",
    "        print(f\"Criterion {i+1} Weight: {weights[i]}\")\n",
    "    \n",
    "    return weights\n",
    "\n",
    "# Example usage\n",
    "num_subjects = 5\n",
    "num_criteria = 4\n",
    "criteria_matrix = np.random.rand(num_subjects, num_criteria)\n",
    "\n",
    "subject_weights = bwm(num_subjects, criteria_matrix)"
   ]
  },
  {
   "cell_type": "code",
   "execution_count": null,
   "id": "c7277b3b-953a-43f6-aa6f-f5a7e8567959",
   "metadata": {},
   "outputs": [],
   "source": []
  }
 ],
 "metadata": {
  "kernelspec": {
   "display_name": "Python 3 (ipykernel)",
   "language": "python",
   "name": "python3"
  },
  "language_info": {
   "codemirror_mode": {
    "name": "ipython",
    "version": 3
   },
   "file_extension": ".py",
   "mimetype": "text/x-python",
   "name": "python",
   "nbconvert_exporter": "python",
   "pygments_lexer": "ipython3",
   "version": "3.10.10"
  }
 },
 "nbformat": 4,
 "nbformat_minor": 5
}
