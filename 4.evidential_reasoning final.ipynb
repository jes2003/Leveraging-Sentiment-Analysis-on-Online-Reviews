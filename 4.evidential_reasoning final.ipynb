{
 "cells": [
  {
   "cell_type": "code",
   "execution_count": 1,
   "id": "30357117-b188-4d7b-9527-bcaef57b026c",
   "metadata": {},
   "outputs": [],
   "source": [
    "import csv\n",
    "def evidential_reasoning(confidences, weights):\n",
    "    # Check if the lengths of confidences and weights are the same\n",
    "    if len(confidences) != len(weights):\n",
    "        raise ValueError(\"Lengths of confidences and weights must be the same.\")\n",
    "\n",
    "    # Normalize weights to ensure their sum is 1\n",
    "    normalized_weights = [w / sum(weights) for w in weights]\n",
    "\n",
    "    # Combine evidence using Dempster's Rule of Combination\n",
    "    combined_belief = [0] * len(confidences[0])\n",
    "\n",
    "    for i in range(len(confidences[0])):\n",
    "        for j in range(len(confidences)):\n",
    "            combined_belief[i] += confidences[j][i] * normalized_weights[j]\n",
    "\n",
    "    # Normalize combined belief to ensure its sum is 1\n",
    "    sum_belief = sum(combined_belief)\n",
    "    normalized_belief = [b / sum_belief for b in combined_belief]\n",
    "\n",
    "    return normalized_belief"
   ]
  },
  {
   "cell_type": "code",
   "execution_count": 2,
   "id": "436e73d9-4336-4f09-9320-57fbfb0808c4",
   "metadata": {},
   "outputs": [],
   "source": [
    "def write_result_to_csv(output_filename, name, result):\n",
    "    # Open the CSV file in append mode\n",
    "    with open(output_filename, mode='a', newline='') as file:\n",
    "        writer = csv.writer(file)\n",
    "\n",
    "        # Writing the data for the specified name\n",
    "        writer.writerow([name] + result)"
   ]
  },
  {
   "cell_type": "code",
   "execution_count": 3,
   "id": "eea2bff8-2695-48bf-b064-93771d78dd80",
   "metadata": {},
   "outputs": [],
   "source": [
    "#criteria 1\n",
    "#Howard Johnson Inn - Newburgh"
   ]
  },
  {
   "cell_type": "code",
   "execution_count": 4,
   "id": "ec44ac20-0d75-439f-b795-298b97867848",
   "metadata": {},
   "outputs": [
    {
     "name": "stdout",
     "output_type": "stream",
     "text": [
      "Combined belief: [0.3960790155273138, 0.5883787061984312, 0.015542278274254865]\n"
     ]
    }
   ],
   "source": [
    "confidences_algo1 = [0.369339885,0.601878606,0.028781509]  \n",
    "confidences_algo2 = [0.382448313,0.532081614,0.085470073] \n",
    "confidences_algo3 = [0.438685814,0.632152475,-0.070838289]  # Confidence values for algorithm 3\n",
    "weights = [0.344086021,0.333333333,0.322580645]  # Weights corresponding to the three algorithms\n",
    "\n",
    "# Combine confidences using evidential reasoning\n",
    "result = evidential_reasoning([confidences_algo1, confidences_algo2, confidences_algo3], weights)\n",
    "print(\"Combined belief:\", result)\n",
    "output_filename = \"criteria1.csv\"\n",
    "hotel_name = 'hotel 1'\n",
    "write_result_to_csv(output_filename, hotel_name, result)"
   ]
  },
  {
   "cell_type": "code",
   "execution_count": 5,
   "id": "81edfd69-4567-40a7-b92a-277d0b2fa28e",
   "metadata": {},
   "outputs": [],
   "source": [
    "#Fiesta Inn and Suites"
   ]
  },
  {
   "cell_type": "code",
   "execution_count": 6,
   "id": "6de48e9b-6fba-4155-af02-e2b61adadacf",
   "metadata": {},
   "outputs": [
    {
     "name": "stdout",
     "output_type": "stream",
     "text": [
      "Combined belief: [0.864092195, 0.14966085733333334, -0.013753052333333335]\n"
     ]
    }
   ],
   "source": [
    "confidences_algo1 = [0.966052484,0.028870087,0.005077429]   \n",
    "confidences_algo2 = [0.880236601,0.093711526,0.026051873] \n",
    "confidences_algo3 = [0.7459875,0.326400959,-0.072388459]   \n",
    "weights = [0.33333333333333337,0.33333333333333337,0.33333333333333337]  # Weights corresponding to the three algorithms\n",
    "\n",
    "# Combine confidences using evidential reasoning\n",
    "result = evidential_reasoning([confidences_algo1, confidences_algo2, confidences_algo3], weights)\n",
    "print(\"Combined belief:\", result)\n",
    "output_filename = \"criteria1.csv\"\n",
    "hotel_name = 'hotel 2'\n",
    "write_result_to_csv(output_filename, hotel_name, result)"
   ]
  },
  {
   "cell_type": "code",
   "execution_count": 7,
   "id": "7b3321bb-6e37-410c-b28c-b92cd45f53ad",
   "metadata": {},
   "outputs": [],
   "source": [
    "#Americas Best Value Inn"
   ]
  },
  {
   "cell_type": "code",
   "execution_count": 8,
   "id": "55799b20-5264-42b4-84cf-6e516b0819f7",
   "metadata": {},
   "outputs": [
    {
     "name": "stdout",
     "output_type": "stream",
     "text": [
      "Combined belief: [0.4860918047269119, 0.48518513595465146, 0.028723059318436692]\n"
     ]
    }
   ],
   "source": [
    "confidences_algo1 = [0.477897207,0.471676776,0.050426016]   \n",
    "confidences_algo2 = [0.458743639,0.436128543,0.105127817] \n",
    "confidences_algo3 = [0.522285714,0.548918102,-0.071203816]   \n",
    "weights = [0.3307086614173228,0.33858267716535434,0.3307086614173228]  # Weights corresponding to the three algorithms\n",
    "\n",
    "# Combine confidences using evidential reasoning\n",
    "result = evidential_reasoning([confidences_algo1, confidences_algo2, confidences_algo3], weights)\n",
    "print(\"Combined belief:\", result)\n",
    "output_filename = \"criteria1.csv\"\n",
    "hotel_name = 'hotel 3'\n",
    "write_result_to_csv(output_filename, hotel_name, result)"
   ]
  },
  {
   "cell_type": "code",
   "execution_count": 9,
   "id": "41fcda14-7539-4a7f-98d0-158af274c058",
   "metadata": {},
   "outputs": [],
   "source": [
    "# Best Western of Long Beach"
   ]
  },
  {
   "cell_type": "code",
   "execution_count": 10,
   "id": "6f1516d5-9836-48be-af28-a575136d7923",
   "metadata": {},
   "outputs": [
    {
     "name": "stdout",
     "output_type": "stream",
     "text": [
      "Combined belief: [0.05625773894374227, 0.6544152363455847, 0.289327024710673]\n"
     ]
    }
   ],
   "source": [
    "confidences_algo1 = [0.081604211,0.662014946,0.256380843]   \n",
    "confidences_algo2 = [0.151908853,0.55877568,0.28931547]\n",
    "confidences_algo3 = [-0.064739847,0.742455085,0.322284762]      \n",
    "weights = [0.3333333333333333,0.3333333333333333,0.3333333333333333]  # Weights corresponding to the three algorithms\n",
    "\n",
    "# Combine confidences using evidential reasoning\n",
    "result = evidential_reasoning([confidences_algo1, confidences_algo2, confidences_algo3], weights)\n",
    "print(\"Combined belief:\", result)\n",
    "output_filename = \"criteria1.csv\"\n",
    "hotel_name = 'hotel 4'\n",
    "write_result_to_csv(output_filename, hotel_name, result)"
   ]
  },
  {
   "cell_type": "code",
   "execution_count": 11,
   "id": "6e17d9ef-e3f3-41f5-ad56-85fa528fa4fe",
   "metadata": {},
   "outputs": [],
   "source": [
    "# Plaza Hotel and Casino - Las Vegas"
   ]
  },
  {
   "cell_type": "code",
   "execution_count": 12,
   "id": "611c7f78-16d4-4149-a4d4-9979e3e4ec06",
   "metadata": {},
   "outputs": [
    {
     "name": "stdout",
     "output_type": "stream",
     "text": [
      "Combined belief: [0.20176929882432432, 0.643015532418919, 0.15521516875675676]\n"
     ]
    }
   ],
   "source": [
    "confidences_algo1 = [0.184667175,0.66308468,0.152248145]   \n",
    "confidences_algo2 = [0.24764009,0.546012927,0.206346983] \n",
    "confidences_algo3 = [0.171801937,0.723154551,0.105043512]   \n",
    "weights = [0.33783783783783783,0.33783783783783783,0.32432432432432434]  # Weights corresponding to the three algorithms\n",
    "\n",
    "# Combine confidences using evidential reasoning\n",
    "result = evidential_reasoning([confidences_algo1, confidences_algo2, confidences_algo3], weights)\n",
    "print(\"Combined belief:\", result)\n",
    "output_filename = \"criteria1.csv\"\n",
    "hotel_name = 'hotel 5'\n",
    "write_result_to_csv(output_filename, hotel_name, result)"
   ]
  },
  {
   "cell_type": "code",
   "execution_count": 13,
   "id": "511f5c71-d6ce-4cb4-9862-db4a389584b5",
   "metadata": {},
   "outputs": [],
   "source": [
    "#Criteria 2"
   ]
  },
  {
   "cell_type": "code",
   "execution_count": 14,
   "id": "ee0cfab9-1970-49f5-ae50-2ff7f11b6af0",
   "metadata": {},
   "outputs": [
    {
     "name": "stdout",
     "output_type": "stream",
     "text": [
      "Combined belief: [0.4055488782057302, 0.5817203412399072, 0.012730780554362461]\n"
     ]
    }
   ],
   "source": [
    "# Howard Johnson Inn - Newburgh\n",
    "confidences_algo1 = [0.388439628,0.584569008,0.026991364]   \n",
    "confidences_algo2 = [0.399497145,0.51912222,0.081380635] \n",
    "confidences_algo3 = [0.428533478,0.641499164,-0.070032641]   \n",
    "weights = [0.3310344827586207,0.3344827586206896,0.3344827586206896]  # Weights corresponding to the three algorithms\n",
    "\n",
    "# Combine confidences using evidential reasoning\n",
    "result = evidential_reasoning([confidences_algo1, confidences_algo2, confidences_algo3], weights)\n",
    "print(\"Combined belief:\", result)\n",
    "output_filename = \"criteria2.csv\"\n",
    "hotel_name = 'hotel 1'\n",
    "write_result_to_csv(output_filename, hotel_name, result)"
   ]
  },
  {
   "cell_type": "code",
   "execution_count": 15,
   "id": "edeb68f1-11af-4142-b47e-c74922f18d5b",
   "metadata": {},
   "outputs": [
    {
     "name": "stdout",
     "output_type": "stream",
     "text": [
      "Combined belief: [0.8673337046666667, 0.14680723933333334, -0.014140944]\n"
     ]
    }
   ],
   "source": [
    "# Fiesta Inn and Suites\n",
    "confidences_algo1 = [0.967276867,0.027965047,0.004758086]   \n",
    "confidences_algo2 = [0.884842291,0.091476265,0.023681444] \n",
    "confidences_algo3 = [0.749881956,0.320980406,-0.070862362]   \n",
    "weights = [0.33333333333333337,0.33333333333333337,0.33333333333333337] \n",
    " \n",
    "# Combine confidences using evidential reasoning\n",
    "result = evidential_reasoning([confidences_algo1, confidences_algo2, confidences_algo3], weights)\n",
    "print(\"Combined belief:\", result)\n",
    "output_filename = \"criteria2.csv\"\n",
    "hotel_name = 'hotel 2'\n",
    "write_result_to_csv(output_filename, hotel_name, result)"
   ]
  },
  {
   "cell_type": "code",
   "execution_count": 16,
   "id": "c73e1db9-1c4d-4cea-9d2f-17ab5419ebcf",
   "metadata": {},
   "outputs": [
    {
     "name": "stdout",
     "output_type": "stream",
     "text": [
      "Combined belief: [0.49800069245890416, 0.4772510662945206, 0.024748241246575348]\n"
     ]
    }
   ],
   "source": [
    "# Americas Best Value Inn\n",
    "confidences_algo1 = [0.488827972,0.463993583,0.047178445]   \n",
    "confidences_algo2 = [0.4445046,0.459483721,0.096011679] \n",
    "confidences_algo3 = [0.560482307,0.508005334,-0.068487641]   \n",
    "weights = [0.32876712328767127,0.3356164383561644,0.3356164383561644]  # Weights corresponding to the three algorithms\n",
    "\n",
    "# Combine confidences using evidential reasoning\n",
    "result = evidential_reasoning([confidences_algo1, confidences_algo2, confidences_algo3], weights)\n",
    "print(\"Combined belief:\", result)\n",
    "output_filename = \"criteria2.csv\"\n",
    "hotel_name = 'hotel 3'\n",
    "write_result_to_csv(output_filename, hotel_name, result)"
   ]
  },
  {
   "cell_type": "code",
   "execution_count": 17,
   "id": "9afa8be9-4f58-407c-b157-720f60a8f697",
   "metadata": {},
   "outputs": [
    {
     "name": "stdout",
     "output_type": "stream",
     "text": [
      "Combined belief: [0.0661339847641178, 0.6500958400794752, 0.28377017515640696]\n"
     ]
    }
   ],
   "source": [
    "# Best Western of Long Beach\n",
    "confidences_algo1 = [0.087136109,0.657748599,0.255115293]   \n",
    "confidences_algo2 = [0.160017908,0.561203038,0.278779054] \n",
    "confidences_algo3 = [-0.044684606,0.726812997,0.317871609]   \n",
    "weights = [0.3442622950819672,0.319672131147541,0.3360655737704918]  # Weights corresponding to the three algorithms\n",
    "\n",
    "# Combine confidences using evidential reasoning\n",
    "result = evidential_reasoning([confidences_algo1, confidences_algo2, confidences_algo3], weights)\n",
    "print(\"Combined belief:\", result)\n",
    "output_filename = \"criteria2.csv\"\n",
    "hotel_name = 'hotel 4'\n",
    "write_result_to_csv(output_filename, hotel_name, result)"
   ]
  },
  {
   "cell_type": "code",
   "execution_count": 18,
   "id": "c84b2733-8be1-43a6-8758-17218df8eaa0",
   "metadata": {},
   "outputs": [
    {
     "name": "stdout",
     "output_type": "stream",
     "text": [
      "Combined belief: [0.23003816748669212, 0.6413765697609177, 0.12858526275239016]\n"
     ]
    }
   ],
   "source": [
    "# Plaza Hotel and Casino - Las Vegas\n",
    "confidences_algo1 = [0.215600392,0.643022462,0.141377145]   \n",
    "confidences_algo2 = [0.270286077,0.546675519,0.183038404] \n",
    "confidences_algo3 = [0.204228033,0.734431727,0.061340239]   \n",
    "weights = [0.3333333333333333,0.3333333333333333,0.3333333333333333]  # Weights corresponding to the three algorithms\n",
    "\n",
    "# Combine confidences using evidential reasoning\n",
    "result = evidential_reasoning([confidences_algo1, confidences_algo2, confidences_algo3], weights)\n",
    "print(\"Combined belief:\", result)\n",
    "output_filename = \"criteria2.csv\"\n",
    "hotel_name = 'hotel 5'\n",
    "write_result_to_csv(output_filename, hotel_name, result)"
   ]
  },
  {
   "cell_type": "code",
   "execution_count": 19,
   "id": "49f3a61f-7f9b-4c64-9b28-feca5c97495e",
   "metadata": {},
   "outputs": [],
   "source": [
    "#Criterio 3"
   ]
  },
  {
   "cell_type": "code",
   "execution_count": 20,
   "id": "40251a30-d977-48c3-be84-e8e1f48d48c9",
   "metadata": {},
   "outputs": [
    {
     "name": "stdout",
     "output_type": "stream",
     "text": [
      "Combined belief: [0.4755447969714866, 0.5101127883833999, 0.014342414645113485]\n"
     ]
    }
   ],
   "source": [
    "# Howard Johnson Inn - Newburgh\n",
    "confidences_algo1 = [0.421336248,0.548471869,0.030191883]   \n",
    "confidences_algo2 = [0.409660886,0.50960062,0.080738493] \n",
    "confidences_algo3 = [0.606172352,0.465504158,-0.07167651]   \n",
    "weights = [0.3686635944700461,0.3179723502304147,0.31336405529953915]  # Weights corresponding to the three algorithms\n",
    "\n",
    "# Combine confidences using evidential reasoning\n",
    "result = evidential_reasoning([confidences_algo1, confidences_algo2, confidences_algo3], weights)\n",
    "print(\"Combined belief:\", result)\n",
    "output_filename = \"criteria3.csv\"\n",
    "hotel_name = 'hotel 1'\n",
    "write_result_to_csv(output_filename, hotel_name, result)"
   ]
  },
  {
   "cell_type": "code",
   "execution_count": 21,
   "id": "d4055ba1-2fed-4bfd-a8aa-975b09d21769",
   "metadata": {},
   "outputs": [
    {
     "name": "stdout",
     "output_type": "stream",
     "text": [
      "Combined belief: [0.8585942043804686, 0.15407177094864277, -0.012665975329111342]\n"
     ]
    }
   ],
   "source": [
    "# Fiesta Inn and Suites\n",
    "confidences_algo1 = [0.957222974,0.035504864,0.007272163]   \n",
    "confidences_algo2 = [0.876016558,0.09681904,0.027164402] \n",
    "confidences_algo3 = [0.742543082,0.329891409,-0.072434491]   \n",
    "weights = [0.33333333333333337,0.33333333333333337,0.33333333333333337] \n",
    " \n",
    "# Combine confidences using evidential reasoning\n",
    "result = evidential_reasoning([confidences_algo1, confidences_algo2, confidences_algo3], weights)\n",
    "print(\"Combined belief:\", result)\n",
    "output_filename = \"criteria3.csv\"\n",
    "hotel_name = 'hotel 2'\n",
    "write_result_to_csv(output_filename, hotel_name, result)"
   ]
  },
  {
   "cell_type": "code",
   "execution_count": 22,
   "id": "57f020c8-d525-4a4d-aa53-9c31ca4b2504",
   "metadata": {},
   "outputs": [
    {
     "name": "stdout",
     "output_type": "stream",
     "text": [
      "Combined belief: [0.5062425779959661, 0.4694159745081992, 0.0243414474958347]\n"
     ]
    }
   ],
   "source": [
    "# Americas Best Value Inn\n",
    "confidences_algo1 = [0.499770525,0.454469407,0.045760067]   \n",
    "confidences_algo2 = [0.439123662,0.465582801,0.095293536] \n",
    "confidences_algo3 = [0.582052394,0.489443737,-0.071496131]   \n",
    "weights = [0.34710743801652894,0.3305785123966942,0.3223140495867769]  # Weights corresponding to the three algorithms\n",
    "\n",
    "# Combine confidences using evidential reasoning\n",
    "result = evidential_reasoning([confidences_algo1, confidences_algo2, confidences_algo3], weights)\n",
    "print(\"Combined belief:\", result)\n",
    "output_filename = \"criteria3.csv\"\n",
    "hotel_name = 'hotel 3'\n",
    "write_result_to_csv(output_filename, hotel_name, result)"
   ]
  },
  {
   "cell_type": "code",
   "execution_count": 23,
   "id": "f57e28f4-3e2d-464d-971d-4295df7f8df0",
   "metadata": {},
   "outputs": [
    {
     "name": "stdout",
     "output_type": "stream",
     "text": [
      "Combined belief: [0.05990292793600001, 0.6383570361440001, 0.30174003592]\n"
     ]
    }
   ],
   "source": [
    "# Best Western of Long Beach\n",
    "confidences_algo1 = [0.092407805,0.640227749,0.267364446]   \n",
    "confidences_algo2 = [0.161904976,0.535467224,0.3026278] \n",
    "confidences_algo3 = [-0.072175377,0.736926378,0.335248999]   \n",
    "weights = [0.336,0.328,0.336]  # Weights corresponding to the three algorithms\n",
    "\n",
    "# Combine confidences using evidential reasoning\n",
    "result = evidential_reasoning([confidences_algo1, confidences_algo2, confidences_algo3], weights)\n",
    "print(\"Combined belief:\", result)\n",
    "output_filename = \"criteria3.csv\"\n",
    "hotel_name = 'hotel 4'\n",
    "write_result_to_csv(output_filename, hotel_name, result)"
   ]
  },
  {
   "cell_type": "code",
   "execution_count": 24,
   "id": "1793121c-4e44-4304-93be-1620473cae5e",
   "metadata": {},
   "outputs": [
    {
     "name": "stdout",
     "output_type": "stream",
     "text": [
      "Combined belief: [0.25534497691488495, 0.659784461113405, 0.0848705619717098]\n"
     ]
    }
   ],
   "source": [
    "# Plaza Hotel and Casino - Las Vegas\n",
    "confidences_algo1 = [0.183326431,0.687314705,0.129358864]   \n",
    "confidences_algo2 = [0.250750318,0.552491903,0.196757779] \n",
    "confidences_algo3 = [0.331958182,0.739546776,-0.071504957]   \n",
    "weights = [0.3333333333333333,0.3333333333333333,0.3333333333333333]  # Weights corresponding to the three algorithms\n",
    "\n",
    "# Combine confidences using evidential reasoning\n",
    "result = evidential_reasoning([confidences_algo1, confidences_algo2, confidences_algo3], weights)\n",
    "print(\"Combined belief:\", result)\n",
    "output_filename = \"criteria3.csv\"\n",
    "hotel_name = 'hotel 5'\n",
    "write_result_to_csv(output_filename, hotel_name, result)"
   ]
  },
  {
   "cell_type": "code",
   "execution_count": 25,
   "id": "4b04f718-e486-49cd-8158-6d74899fd894",
   "metadata": {},
   "outputs": [],
   "source": [
    "#Criterio 4"
   ]
  },
  {
   "cell_type": "code",
   "execution_count": 26,
   "id": "fda3baac-7ee9-4aef-a94d-ce62dabb14b7",
   "metadata": {},
   "outputs": [
    {
     "name": "stdout",
     "output_type": "stream",
     "text": [
      "Combined belief: [0.4015249006852589, 0.5901795884302788, 0.008295510884462154]\n"
     ]
    }
   ],
   "source": [
    "# Howard Johnson Inn - Newburgh\n",
    "confidences_algo1 = [0.402737772,0.572761055,0.024501173]   \n",
    "confidences_algo2 = [0.418176562,0.509187872,0.072635566] \n",
    "confidences_algo3 = [0.38408071,0.686274303,-0.070355013]   \n",
    "weights = [0.3306772908366534,0.3306772908366534,0.33864541832669326]  # Weights corresponding to the three algorithms\n",
    "\n",
    "# Combine confidences using evidential reasoning\n",
    "result = evidential_reasoning([confidences_algo1, confidences_algo2, confidences_algo3], weights)\n",
    "print(\"Combined belief:\", result)\n",
    "output_filename = \"criteria4.csv\"\n",
    "hotel_name = 'hotel 1'\n",
    "write_result_to_csv(output_filename, hotel_name, result)"
   ]
  },
  {
   "cell_type": "code",
   "execution_count": 27,
   "id": "250e2ae5-d3c4-4f64-959a-bc6c6041c3e5",
   "metadata": {},
   "outputs": [
    {
     "name": "stdout",
     "output_type": "stream",
     "text": [
      "Combined belief: [0.8661775600000001, 0.14832968533333338, -0.014507245333333335]\n"
     ]
    }
   ],
   "source": [
    "# Fiesta Inn and Suites\n",
    "confidences_algo1 = [0.969265801,0.026284186,0.004450013]   \n",
    "confidences_algo2 = [0.884426539,0.091343285,0.024230176] \n",
    "confidences_algo3 = [0.74484034,0.327361585,-0.072201925]   \n",
    "weights = [0.33333333333333337,0.33333333333333337,0.33333333333333337] \n",
    " \n",
    "# Combine confidences using evidential reasoning\n",
    "result = evidential_reasoning([confidences_algo1, confidences_algo2, confidences_algo3], weights)\n",
    "print(\"Combined belief:\", result)\n",
    "output_filename = \"criteria4.csv\"\n",
    "hotel_name = 'hotel 2'\n",
    "write_result_to_csv(output_filename, hotel_name, result)"
   ]
  },
  {
   "cell_type": "code",
   "execution_count": 28,
   "id": "e971fa22-e934-4a7c-83e4-6d600fbe3953",
   "metadata": {},
   "outputs": [
    {
     "name": "stdout",
     "output_type": "stream",
     "text": [
      "Combined belief: [0.5232288425040651, 0.4527139461549303, 0.02405721134100462]\n"
     ]
    }
   ],
   "source": [
    "# Americas Best Value Inn\n",
    "confidences_algo1 = [0.490420851,0.465343247,0.044235902]   \n",
    "confidences_algo2 = [0.459982808,0.444982744,0.095034448] \n",
    "confidences_algo3 = [0.621626297,0.446913755,-0.068540051]   \n",
    "weights = [0.3488372093023256,0.32558139534883723,0.32558139534883723]  # Weights corresponding to the three algorithms\n",
    "\n",
    "# Combine confidences using evidential reasoning\n",
    "result = evidential_reasoning([confidences_algo1, confidences_algo2, confidences_algo3], weights)\n",
    "print(\"Combined belief:\", result)\n",
    "output_filename = \"criteria4.csv\"\n",
    "hotel_name = 'hotel 3'\n",
    "write_result_to_csv(output_filename, hotel_name, result)"
   ]
  },
  {
   "cell_type": "code",
   "execution_count": 29,
   "id": "78c45a66-6580-4f24-8891-01583a104efb",
   "metadata": {},
   "outputs": [
    {
     "name": "stdout",
     "output_type": "stream",
     "text": [
      "Combined belief: [0.09982319848387097, 0.6528589759758064, 0.24731782554032258]\n"
     ]
    }
   ],
   "source": [
    "# Best Western of Long Beach\n",
    "confidences_algo1 = [0.088128295,0.667385806,0.244485899]   \n",
    "confidences_algo2 = [0.15326479,0.566962026,0.279773184] \n",
    "confidences_algo3 = [0.058361752,0.723874783,0.217763465]   \n",
    "weights = [0.3387096774193548,0.33064516129032256,0.33064516129032256]  # Weights corresponding to the three algorithms\n",
    "\n",
    "# Combine confidences using evidential reasoning\n",
    "result = evidential_reasoning([confidences_algo1, confidences_algo2, confidences_algo3], weights)\n",
    "print(\"Combined belief:\", result)\n",
    "output_filename = \"criteria4.csv\"\n",
    "hotel_name = 'hotel 4'\n",
    "write_result_to_csv(output_filename, hotel_name, result)"
   ]
  },
  {
   "cell_type": "code",
   "execution_count": 30,
   "id": "58efe7b6-c2ee-4840-bd95-f91978fd5724",
   "metadata": {},
   "outputs": [
    {
     "name": "stdout",
     "output_type": "stream",
     "text": [
      "Combined belief: [0.23869712092043432, 0.6547872767817376, 0.10651560229782815]\n"
     ]
    }
   ],
   "source": [
    "# Plaza Hotel and Casino - Las Vegas\n",
    "confidences_algo1 = [0.202325144,0.657779524,0.139895333]   \n",
    "confidences_algo2 = [0.250009946,0.565943616,0.184046438] \n",
    "confidences_algo3 = [0.263756273,0.740638691,-0.004394964]   \n",
    "weights = [0.3333333333333333,0.3333333333333333,0.3333333333333333]  # Weights corresponding to the three algorithms\n",
    "\n",
    "# Combine confidences using evidential reasoning\n",
    "result = evidential_reasoning([confidences_algo1, confidences_algo2, confidences_algo3], weights)\n",
    "print(\"Combined belief:\", result)\n",
    "output_filename = \"criteria4.csv\"\n",
    "hotel_name = 'hotel 5'\n",
    "write_result_to_csv(output_filename, hotel_name, result)"
   ]
  },
  {
   "cell_type": "code",
   "execution_count": null,
   "id": "ebbc8ee3-b066-43bf-8cc3-9ab81751b081",
   "metadata": {},
   "outputs": [],
   "source": []
  },
  {
   "cell_type": "code",
   "execution_count": null,
   "id": "56231bdd-1584-46a3-9356-5bf8146dda35",
   "metadata": {},
   "outputs": [],
   "source": []
  }
 ],
 "metadata": {
  "kernelspec": {
   "display_name": "Python 3 (ipykernel)",
   "language": "python",
   "name": "python3"
  },
  "language_info": {
   "codemirror_mode": {
    "name": "ipython",
    "version": 3
   },
   "file_extension": ".py",
   "mimetype": "text/x-python",
   "name": "python",
   "nbconvert_exporter": "python",
   "pygments_lexer": "ipython3",
   "version": "3.10.10"
  }
 },
 "nbformat": 4,
 "nbformat_minor": 5
}
