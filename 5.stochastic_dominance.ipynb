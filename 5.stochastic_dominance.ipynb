{
 "cells": [
  {
   "cell_type": "code",
   "execution_count": 1,
   "id": "dc077a1e-fb83-408c-b657-a4c6369e92ae",
   "metadata": {},
   "outputs": [
    {
     "name": "stdout",
     "output_type": "stream",
     "text": [
      "[ 0.38053674  0.87784525  0.45736875 -0.23306929  0.04655413]\n"
     ]
    }
   ],
   "source": [
    "# Input beta\n",
    "import numpy as np\n",
    "beta = np.array([[0.396079016, 0.588378706, 0.015542278],\n",
    "                 [0.864092195, 0.149660857, -0.013753052],\n",
    "                 [0.486091805, 0.485185136, 0.028723059],\n",
    "                 [0.056257739, 0.654415236, 0.289327025],\n",
    "                 [0.201769299, 0.643015532, 0.155215169]])\n",
    "\n",
    "# Input s\n",
    "s = np.array([1, 0, -1])\n",
    "\n",
    "# Calculate e; = Σ Sa\n",
    "e11 = np.einsum('ij,j->i', beta, s)\n",
    "print(e11)"
   ]
  },
  {
   "cell_type": "code",
   "execution_count": 2,
   "id": "0387a1de-ab63-4b7f-bfe5-eb7b8fe63067",
   "metadata": {},
   "outputs": [
    {
     "name": "stdout",
     "output_type": "stream",
     "text": [
      "[ 0.3928181   0.88147465  0.47325245 -0.21763619  0.1014529 ]\n"
     ]
    }
   ],
   "source": [
    "# Input beta\n",
    "import numpy as np\n",
    "beta = np.array([[0.405548878,0.581720341,0.012730781],\n",
    "                 [0.867333705,0.146807239,-0.014140944],\n",
    "                 [0.498000692,0.477251066,0.024748241],\n",
    "                 [0.066133985,0.65009584,0.283770175],\n",
    "                 [0.230038167,0.64137657,0.128585263]])\n",
    "\n",
    "# Input s\n",
    "s = np.array([1, 0, -1])\n",
    "\n",
    "# Calculate e; = Σ Sa\n",
    "e12 = np.einsum('ij,j->i', beta, s)\n",
    "print(e12)"
   ]
  },
  {
   "cell_type": "code",
   "execution_count": 3,
   "id": "feb2d781-5a15-4e5d-bddb-7aea48f3997a",
   "metadata": {},
   "outputs": [
    {
     "name": "stdout",
     "output_type": "stream",
     "text": [
      "[ 0.46120238  0.87126018  0.48190113 -0.24183711  0.17047441]\n"
     ]
    }
   ],
   "source": [
    "# Input beta\n",
    "import numpy as np\n",
    "beta = np.array([[0.475544797,0.510112788,0.014342415],\n",
    "                 [0.858594204,0.154071771,-0.012665975],\n",
    "                 [0.506242578,0.469415975,0.024341447],\n",
    "                 [0.059902928,0.638357036,0.301740036],\n",
    "                 [0.255344977,0.659784461,0.084870562]])\n",
    "\n",
    "# Input s\n",
    "s = np.array([1, 0, -1])\n",
    "\n",
    "# Calculate e; = Σ Sa\n",
    "e13 = np.einsum('ij,j->i', beta, s)\n",
    "print(e13)"
   ]
  },
  {
   "cell_type": "code",
   "execution_count": 4,
   "id": "c1ed7d7d-c8e2-4532-baa7-9a779208944c",
   "metadata": {},
   "outputs": [
    {
     "name": "stdout",
     "output_type": "stream",
     "text": [
      "[ 0.39322939  0.88068481  0.49917163 -0.14749463  0.13218152]\n"
     ]
    }
   ],
   "source": [
    "# Input beta\n",
    "import numpy as np\n",
    "beta = np.array([[0.401524901,0.590179588,0.008295511],\n",
    "                 [0.86617756,0.148329685,-0.014507245],\n",
    "                 [0.523228843,0.452713946,0.024057211],\n",
    "                 [0.099823198,0.652858976,0.247317826],\n",
    "                 [0.238697121,0.654787277,0.106515602]])\n",
    "# Input s\n",
    "s = np.array([1, 0, -1])\n",
    "\n",
    "# Calculate e; = Σ Sa\n",
    "e14 = np.einsum('ij,j->i', beta, s)\n",
    "print(e14)"
   ]
  },
  {
   "cell_type": "code",
   "execution_count": 11,
   "id": "6b283631-ac07-4708-aa58-381f0e2e7e52",
   "metadata": {},
   "outputs": [],
   "source": [
    "result_matrix = np.vstack((e11, e12, e13, e14)).T"
   ]
  },
  {
   "cell_type": "code",
   "execution_count": 12,
   "id": "c263e647-6007-4dd1-9a86-a0e18f7a478a",
   "metadata": {},
   "outputs": [
    {
     "name": "stdout",
     "output_type": "stream",
     "text": [
      "[[ 0.38053674  0.3928181   0.46120238  0.39322939]\n",
      " [ 0.87784525  0.88147465  0.87126018  0.88068481]\n",
      " [ 0.45736875  0.47325245  0.48190113  0.49917163]\n",
      " [-0.23306929 -0.21763619 -0.24183711 -0.14749463]\n",
      " [ 0.04655413  0.1014529   0.17047441  0.13218152]]\n"
     ]
    }
   ],
   "source": [
    "print(result_matrix)"
   ]
  },
  {
   "cell_type": "code",
   "execution_count": null,
   "id": "610dde75-944f-4e8c-a468-2f1d27e8df8b",
   "metadata": {},
   "outputs": [],
   "source": [
    "def cdf(x, s, S, B):\n",
    "    if x < S[0]:\n",
    "        return 0\n",
    "    elif S[0] <= x < S[1]:\n",
    "        return s[0] * B\n",
    "    elif S[1] <= x < S[2]:\n",
    "        return s[0] * B + s[1] * B\n",
    "    elif S[2] <= x:\n",
    "        return s[0] * B + s[1] * B + s[2] * B\n",
    "    else:\n",
    "        raise ValueError(\"x is out of range.\")\n",
    "\n",
    "# Define the input data in base b\n",
    "base = 3  # Replace with the actual base value.\n",
    "input_data = [\n",
    "    [0.396079016 * base, 0.588378706 * base, 0.015542278 * base],\n",
    "    [0.864092195 * base, 0.149660857 * base, -0.013753052 * base],\n",
    "    [0.486091805 * base, 0.485185136 * base, 0.028723059 * base],\n",
    "    [0.056257739 * base, 0.654415236 * base, 0.289327025 * base],\n",
    "    [0.201769299 * base, 0.643015532 * base, 0.155215169 * base]\n",
    "]\n",
    "\n",
    "S = [0, 0.4, 0.8, 1]  # Replace with the actual points if they are different.\n",
    "B = 0.1  # Replace B with the actual value if it is different.\n",
    "\n",
    "# Calculate CDFs for each random variable\n",
    "X = [lambda x: cdf(x, s, S, B) for s in input_data]\n",
    "\n",
    "a, b = 0, 1\n",
    "\n",
    "for i, _ in enumerate(X):\n",
    "    for j, _ in enumerate(X):\n",
    "        if i != j:\n",
    "            print(f\"First degree dominance between X{i} and X{j}:\")\n",
    "            print(first_degree_stochastic_dominance(X[i], X[j], a, b))\n",
    "\n",
    "            print(f\"Second degree dominance between X{i} and X{j}:\")\n",
    "            print(second_degree_stochastic_dominance(X[i], X[j], a, b))\n",
    "\n",
    "            print(f\"Third degree dominance between X{i} and X{j}:\")\n",
    "            print(third_degree_stochastic_dominance(X[i], X[j], a, b))"
   ]
  },
  {
   "cell_type": "code",
   "execution_count": null,
   "id": "94596e4e-9951-46ce-8b78-1ef80e5baefc",
   "metadata": {},
   "outputs": [],
   "source": [
    "import numpy as np\n",
    "\n",
    "def compute_cumulative_distribution_function(Fij):\n",
    "    # This function computes the cumulative distribution function Fij\n",
    "    # Implementation details are not provided in the context\n",
    "    pass\n",
    "\n",
    "def compare_fij(Fij, FSD, SSD, TSD, p, ;;):\n",
    "    if Fij > FSD * Fij:\n",
    "        return 'FSDA concerning C'\n",
    "    elif Fij > SSD * Fij:\n",
    "        return 'SSDA concerning C'\n",
    "    elif Fij < TSD * Fkj:\n",
    "        return 'A₁ TSD Ak concerning C'\n",
    "    else:\n",
    "        return 'no SD relation'\n",
    "\n",
    "def compute_degree_of_preference(A₁, Ak, C):\n",
    "    # This function computes the degree of preference P(A₁, Ak) concerning C\n",
    "    # Implementation details are not provided in the context\n",
    "    pass\n",
    "\n",
    "def compute_net_flow(A, C, w, 1):\n",
    "    # This function computes the net flow (A;)\n",
    "    # Implementation details are not provided in the context\n",
    "    pass\n",
    "\n",
    "def rank_products(F, FSD, SSD, TSD, p, ;;, w, 1):\n",
    "    n = len(F[0])\n",
    "    m = len(F)\n",
    "    D = np.zeros((m, n))\n",
    "\n",
    "    # Compute the cumulative distribution function Fij\n",
    "    for j in range(n):\n",
    "        Fij = compute_cumulative_distribution_function(F[:, j])\n",
    "        for i in range(m):\n",
    "            for k in range(m):\n",
    "                if i != k:\n",
    "                    comparison_result = compare_fij(Fij[i], Fij[k], FSD, SSD, TSD, p, ;;)\n",
    "                    if comparison_result == 'FSDA concerning C':\n",
    "                        D[i, j] += 1\n",
    "                    elif comparison_result == 'SSDA concerning C':\n",
    "                        D[k, j] += 1\n",
    "                    elif comparison_result == 'A₁ TSD Ak concerning C':\n",
    "                        D[k, j] += 1\n",
    "\n",
    "    # Compute the net flow for each attribute\n",
    "    for j in range(n):\n",
    "        for i in range(m):\n",
    "            for k in range(m):\n",
    "                if i != k:\n",
    "                    A₁, Ak = D[i, j], D[k, j]\n",
    "                    P = compute_degree_of_preference(A₁, Ak, C)\n",
    "                    D[i, j] = P\n",
    "                    D[k, j] = -P\n",
    "        A = sum(D[:, j])\n",
    "        compute_net_flow(A, C, w, 1)\n",
    "\n",
    "    return D"
   ]
  }
 ],
 "metadata": {
  "kernelspec": {
   "display_name": "Python 3 (ipykernel)",
   "language": "python",
   "name": "python3"
  },
  "language_info": {
   "codemirror_mode": {
    "name": "ipython",
    "version": 3
   },
   "file_extension": ".py",
   "mimetype": "text/x-python",
   "name": "python",
   "nbconvert_exporter": "python",
   "pygments_lexer": "ipython3",
   "version": "3.10.10"
  }
 },
 "nbformat": 4,
 "nbformat_minor": 5
}
